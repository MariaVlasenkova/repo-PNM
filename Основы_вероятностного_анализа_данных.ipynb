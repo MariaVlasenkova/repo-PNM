{
  "nbformat": 4,
  "nbformat_minor": 0,
  "metadata": {
    "colab": {
      "provenance": [],
      "authorship_tag": "ABX9TyO2Md1FeejOvo8VSjA9XOew",
      "include_colab_link": true
    },
    "kernelspec": {
      "name": "python3",
      "display_name": "Python 3"
    },
    "language_info": {
      "name": "python"
    }
  },
  "cells": [
    {
      "cell_type": "markdown",
      "metadata": {
        "id": "view-in-github",
        "colab_type": "text"
      },
      "source": [
        "<a href=\"https://colab.research.google.com/github/MariaVlasenkova/repo-PNM/blob/main/%D0%9E%D1%81%D0%BD%D0%BE%D0%B2%D1%8B_%D0%B2%D0%B5%D1%80%D0%BE%D1%8F%D1%82%D0%BD%D0%BE%D1%81%D1%82%D0%BD%D0%BE%D0%B3%D0%BE_%D0%B0%D0%BD%D0%B0%D0%BB%D0%B8%D0%B7%D0%B0_%D0%B4%D0%B0%D0%BD%D0%BD%D1%8B%D1%85.ipynb\" target=\"_parent\"><img src=\"https://colab.research.google.com/assets/colab-badge.svg\" alt=\"Open In Colab\"/></a>"
      ]
    },
    {
      "cell_type": "markdown",
      "source": [
        "#**Биноминальное распределение**"
      ],
      "metadata": {
        "id": "JBrRWVlY41K2"
      }
    },
    {
      "cell_type": "markdown",
      "source": [
        "#Компания метрополитена опрашивает восемь пожилых людей,путешествующих в поезде метро, на предмет их удовлетворенностиновыми функциями безопасности, введенными в поездах метро.Каждый ответ имеет только два значения: да или нет. Предположим,что вероятность ответа «да» составляет 0,6, а вероятность ответа «нет»составляет 0,4.\n",
        "\n",
        "Рассчитайте вероятность того, что\n",
        "1. Ровно три человека довольны новыми функциями безопасности метро.\n",
        "2. Менее пяти человек остались довольны"
      ],
      "metadata": {
        "id": "iNIKskk4zSr6"
      }
    },
    {
      "cell_type": "code",
      "execution_count": null,
      "metadata": {
        "colab": {
          "base_uri": "https://localhost:8080/"
        },
        "id": "Hy3yGdAyzMjl",
        "outputId": "31e9cf40-305b-40e5-8dfd-018dd8036920"
      },
      "outputs": [
        {
          "output_type": "execute_result",
          "data": {
            "text/plain": [
              "0.12386304000000004"
            ]
          },
          "metadata": {},
          "execution_count": 1
        }
      ],
      "source": [
        "# Для 1 части вопроса: мы можем использовать формулу или решить этузадачу с помощью функции Scipy\n",
        "import scipy.stats as stats\n",
        "n, r, p = 8, 3, 0.6\n",
        "stats.binom.pmf(r, n, p)"
      ]
    },
    {
      "cell_type": "markdown",
      "source": [
        "Что касается второй части вопроса: поскольку нам нужно рассчитать вероятность того, что удовлетворены менее пяти человек, предельное значение переменной равно 4."
      ],
      "metadata": {
        "id": "tOOAI4sf3UyK"
      }
    },
    {
      "cell_type": "code",
      "source": [
        "import scipy.stats as stats\n",
        "n, r, p = 8, 4, 0.6\n",
        "stats.binom.cdf(r, n, p)"
      ],
      "metadata": {
        "colab": {
          "base_uri": "https://localhost:8080/"
        },
        "id": "qTQjpy5e3XL4",
        "outputId": "e725e85b-5a25-4a0e-dc91-c35f919104aa"
      },
      "execution_count": null,
      "outputs": [
        {
          "output_type": "execute_result",
          "data": {
            "text/plain": [
              "0.40591360000000004"
            ]
          },
          "metadata": {},
          "execution_count": 2
        }
      ]
    },
    {
      "cell_type": "code",
      "source": [
        "from scipy.stats import binom\n",
        "import matplotlib.pyplot as plt\n",
        "# setting the values\n",
        "# of n and p\n",
        "n = 6\n",
        "p = 0.6\n",
        "# defining list of r values\n",
        "r_values = list(range(n + 1))\n",
        "# list of pmf values\n",
        "dist = [binom.pmf(r, n, p) for r in r_values ]\n",
        "# plotting the graph \n",
        "plt.bar(r_values, dist)\n",
        "plt.show()"
      ],
      "metadata": {
        "colab": {
          "base_uri": "https://localhost:8080/",
          "height": 265
        },
        "id": "dJQaGNLbereT",
        "outputId": "cd91af4a-a982-474c-e4a6-70927df131f8"
      },
      "execution_count": 3,
      "outputs": [
        {
          "output_type": "display_data",
          "data": {
            "text/plain": [
              "<Figure size 432x288 with 1 Axes>"
            ],
            "image/png": "[encoded data removed]"
          },
          "metadata": {
            "needs_background": "light"
          }
        }
      ]
    },
    {
      "cell_type": "markdown",
      "source": [
        "#Найдите вероятность иметь по крайней мере 3 мальчика на 6 детей, когда вероятность получить мальчика составляет 1,09 / 2,09.\n",
        "n = количество испытаний = 6\n",
        "р = вероятность успеха в каждом испытании = 1,09 / 2,09\n",
        "х = номер успеха = не менее 3"
      ],
      "metadata": {
        "id": "DU4rk9ehgKvx"
      }
    },
    {
      "cell_type": "code",
      "source": [
        "import math\n",
        "def binomial_prob(n, p, x):\n",
        "    b = (math.factorial(n)/(math.factorial(x)*math.factorial(n-x)))*(p**x)*((1-p)**(n-x))\n",
        "    return b# probability of at least 3 boys in 6 children\n",
        "n = 6\n",
        "p = 1.09/2.09\n",
        "b = 0\n",
        "for x in range(3,7):     # x=3,4,5,6\n",
        "    b += binomial_prob(n, p, x)   \n",
        "print(\"%.3f\" %b)"
      ],
      "metadata": {
        "colab": {
          "base_uri": "https://localhost:8080/"
        },
        "id": "JcdV9fmKgJ2q",
        "outputId": "7d52cb64-aa70-42d4-df70-7df2ace1fe03"
      },
      "execution_count": 10,
      "outputs": [
        {
          "output_type": "stream",
          "name": "stdout",
          "text": [
            "0.696\n"
          ]
        }
      ]
    },
    {
      "cell_type": "markdown",
      "source": [
        "#**Распределение Пуассона**"
      ],
      "metadata": {
        "id": "jfJVdhhv4_G7"
      }
    },
    {
      "cell_type": "markdown",
      "source": [
        "# На станции метро в среднем не работают два автомата по продаже билетов. Предполагая, что количество вышедших из строя машин соответствует распределению Пуассона, вычислите вероятность того, что в данный момент времени:\n",
        "1. Ровно три машины не работают.\n",
        "2. Более двух машин не работают."
      ],
      "metadata": {
        "id": "mHyeVZWW5CaU"
      }
    },
    {
      "cell_type": "code",
      "source": [
        "import scipy.stats as stats\n",
        "λ =2\n",
        "r = 3\n",
        "stats.poisson.pmf(r, λ)"
      ],
      "metadata": {
        "colab": {
          "base_uri": "https://localhost:8080/"
        },
        "id": "l-fieQT55Nit",
        "outputId": "7fd7066f-1178-4cfd-b76c-50f7b40b831b"
      },
      "execution_count": null,
      "outputs": [
        {
          "output_type": "execute_result",
          "data": {
            "text/plain": [
              "0.18044704431548356"
            ]
          },
          "metadata": {},
          "execution_count": 3
        }
      ]
    },
    {
      "cell_type": "markdown",
      "source": [
        "Поскольку нам нужно рассчитать вероятность того, что более двух\n",
        "машин выйдут из строя, нам необходимо рассчитать следующую\n",
        "вероятность:\n",
        "P (x> 2) или (1-p (x = 0) -p (x = 1) -p (x = 2))."
      ],
      "metadata": {
        "id": "hiJRj1-S5w_p"
      }
    },
    {
      "cell_type": "code",
      "source": [
        "import scipy.stats as stats\n",
        "λ =2\n",
        "r = 3\n",
        "stats.poisson.pmf(r, λ)"
      ],
      "metadata": {
        "colab": {
          "base_uri": "https://localhost:8080/"
        },
        "id": "X7wPygCv5qSG",
        "outputId": "70f969d2-9459-44d7-886b-035e7bf10c57"
      },
      "execution_count": null,
      "outputs": [
        {
          "output_type": "execute_result",
          "data": {
            "text/plain": [
              "0.3233235838169366"
            ]
          },
          "metadata": {},
          "execution_count": 4
        }
      ]
    },
    {
      "cell_type": "code",
      "source": [
        "import numpy as np \n",
        "import matplotlib.pyplot as plt  \n",
        "from scipy.stats import poisson \n",
        "    \n",
        "numargs = poisson .numargs \n",
        "a, b = 0.2, 0.8\n",
        "rv = poisson (a, b)   \n",
        "print (\"RV : \\n\", rv)\n",
        "\n",
        "quantile = np.arange (0.01, 1, 0.1) \n",
        "# Random Variates \n",
        "R = poisson .rvs(a, b, size = 10) \n",
        "print (\"Random Variates : \\n\", R) \n",
        " \n",
        "x = np.linspace(poisson.ppf(0.01, a, b),\n",
        "                poisson.ppf(0.99, a, b), 10)\n",
        "R = poisson.ppf(x, 1, 3)\n",
        "print (\"\\nProbability Distribution : \\n\", R) \n",
        "\n",
        "\n",
        "distribution = np.linspace(0, np.minimum(rv.dist.b, 2)) \n",
        "print(\"Distribution : \\n\", distribution) \n",
        "     \n",
        "plot = plt.plot(distribution, rv.ppf(distribution)) "
      ],
      "metadata": {
        "colab": {
          "base_uri": "https://localhost:8080/",
          "height": 560
        },
        "id": "qUrcfMWSfBDi",
        "outputId": "176036e4-bf50-44dd-b234-b29164970eb5"
      },
      "execution_count": 9,
      "outputs": [
        {
          "output_type": "stream",
          "name": "stdout",
          "text": [
            "RV : \n",
            " <scipy.stats._distn_infrastructure.rv_discrete_frozen object at 0x7f2508b7c100>\n",
            "Random Variates : \n",
            " [0 0 1 0 0 0 0 0 1 0]\n",
            "\n",
            "Probability Distribution : \n",
            " [ 5. nan nan nan nan nan nan nan nan nan]\n",
            "Distribution : \n",
            " [0.         0.04081633 0.08163265 0.12244898 0.16326531 0.20408163\n",
            " 0.24489796 0.28571429 0.32653061 0.36734694 0.40816327 0.44897959\n",
            " 0.48979592 0.53061224 0.57142857 0.6122449  0.65306122 0.69387755\n",
            " 0.73469388 0.7755102  0.81632653 0.85714286 0.89795918 0.93877551\n",
            " 0.97959184 1.02040816 1.06122449 1.10204082 1.14285714 1.18367347\n",
            " 1.2244898  1.26530612 1.30612245 1.34693878 1.3877551  1.42857143\n",
            " 1.46938776 1.51020408 1.55102041 1.59183673 1.63265306 1.67346939\n",
            " 1.71428571 1.75510204 1.79591837 1.83673469 1.87755102 1.91836735\n",
            " 1.95918367 2.        ]\n"
          ]
        },
        {
          "output_type": "display_data",
          "data": {
            "text/plain": [
              "<Figure size 432x288 with 1 Axes>"
            ],
            "image/png": "[encoded data removed]"
          },
          "metadata": {
            "needs_background": "light"
          }
        }
      ]
    },
    {
      "cell_type": "markdown",
      "source": [
        "#Найти вероятность наличия 5 дефектов в области, при этом площадь в среднем составляет 2,5 дефекта.\n",
        "х = количество успехов (дефектов) в указанном регионе = 5\n",
        "miu = среднее число успеха в указанном регионе = 2,5"
      ],
      "metadata": {
        "id": "ujsqhXdmgZk7"
      }
    },
    {
      "cell_type": "code",
      "source": [
        "from math import factorial, exp# probability of 5 defects in an area\n",
        "x = 5\n",
        "miu = 2.5\n",
        "poisson_prob = ((miu**x) * exp(-miu)) / factorial(x)\n",
        "print(\"%.3f\" %poisson_prob)"
      ],
      "metadata": {
        "colab": {
          "base_uri": "https://localhost:8080/"
        },
        "id": "gc1UbVb4ga0F",
        "outputId": "808e3b90-c3b0-40c4-d0d1-398026b7520a"
      },
      "execution_count": 12,
      "outputs": [
        {
          "output_type": "stream",
          "name": "stdout",
          "text": [
            "0.067\n"
          ]
        }
      ]
    },
    {
      "cell_type": "markdown",
      "source": [
        "#**Нормальное распределение**"
      ],
      "metadata": {
        "id": "9Kwt-x_56EJE"
      }
    },
    {
      "cell_type": "code",
      "source": [
        "# importing numpy as np\n",
        "import numpy as np\n",
        " \n",
        "# importing pyplot as plt\n",
        "import matplotlib.pyplot as plt\n",
        " \n",
        "# position\n",
        "pos = 100\n",
        "# scale\n",
        "scale = 5\n",
        " \n",
        "# size\n",
        "size = 100000\n",
        " \n",
        "# creating a normal distribution data\n",
        "values = np.random.normal(pos, scale, size)\n",
        " \n",
        "# plotting histograph\n",
        "plt.hist(values, 100)\n",
        " \n",
        "# showing the graph\n",
        "plt.show()"
      ],
      "metadata": {
        "colab": {
          "base_uri": "https://localhost:8080/",
          "height": 265
        },
        "id": "ebKLR2wHdOQb",
        "outputId": "216d5d80-0156-48d0-8e6f-4fe1a2a921f3"
      },
      "execution_count": 1,
      "outputs": [
        {
          "output_type": "display_data",
          "data": {
            "text/plain": [
              "<Figure size 432x288 with 1 Axes>"
            ],
            "image/png": "[encoded data removed]"
          },
          "metadata": {
            "needs_background": "light"
          }
        }
      ]
    },
    {
      "cell_type": "markdown",
      "source": [
        "#Время, затрачиваемое на сборку автомобиля, обычно распределяется по среднему значению и дисперсии 20 и 4 часа соответственно. Найти вероятность того, что автомобиль можно собрать\n",
        "(а) менее чем за 19,5 часов\n",
        "(б) от 20 до 22 часов\n",
        "\n",
        "X ~ N (миу, stdev ** 2)\n",
        "миу = среднее = 20\n",
        "stdev = sqrt (дисперсия) = sqrt (4) = 2"
      ],
      "metadata": {
        "id": "Ol6c9DLagw8s"
      }
    },
    {
      "cell_type": "code",
      "source": [
        "import math\n",
        "def normal_prob(miu, stdev, x):\n",
        "    return 0.5 * (1 + math.erf((x-miu)/(stdev * 2**0.5)))# probability of time less than 19.5 hrs\n",
        "miu = 20 \n",
        "stdev = 2\n",
        "print( '%.3f' %normal_prob(miu, stdev, 19.5) )\n",
        "# probability of time between 20 and 22 hrs\n",
        "print( '%.3f' %(normal_prob(miu, stdev, 22) - normal_prob(miu, stdev, 20)) )"
      ],
      "metadata": {
        "colab": {
          "base_uri": "https://localhost:8080/"
        },
        "id": "u64pqEOGgy5K",
        "outputId": "31b205ce-1246-42de-ca22-0372ded2e089"
      },
      "execution_count": 13,
      "outputs": [
        {
          "output_type": "stream",
          "name": "stdout",
          "text": [
            "0.401\n",
            "0.341\n"
          ]
        }
      ]
    },
    {
      "cell_type": "markdown",
      "source": [
        "#Размер выборки 100 берется из нормально распределенной популяции со средним весом 500 кг и стандартным отклонением 80. Рассчитайте интервал (a <x <b), который охватывает средние 95% распределения среднего значения по выборке."
      ],
      "metadata": {
        "id": "Ss2t4B5Fg9bD"
      }
    },
    {
      "cell_type": "code",
      "source": [
        "n = 100\n",
        "miu = 500\n",
        "stdev = 80\n",
        "z = 1.96\n",
        "s = stdev/n**0.5# lower limit\n",
        "print(\"%.2f\" %(miu - z*s))\n",
        "# upper limit\n",
        "print(\"%.2f\" %(miu + z*s))"
      ],
      "metadata": {
        "colab": {
          "base_uri": "https://localhost:8080/"
        },
        "id": "USN36Q0dhADX",
        "outputId": "47d0dee6-7e9c-4213-eba6-6c49cee9515f"
      },
      "execution_count": 16,
      "outputs": [
        {
          "output_type": "stream",
          "name": "stdout",
          "text": [
            "484.32\n",
            "515.68\n"
          ]
        }
      ]
    }
  ]
}