{
  "nbformat": 4,
  "nbformat_minor": 0,
  "metadata": {
    "colab": {
      "provenance": [],
      "authorship_tag": "ABX9TyN5Xap/ON94no6hH8cg3sUu",
      "include_colab_link": true
    },
    "kernelspec": {
      "name": "python3",
      "display_name": "Python 3"
    },
    "language_info": {
      "name": "python"
    }
  },
  "cells": [
    {
      "cell_type": "markdown",
      "metadata": {
        "id": "view-in-github",
        "colab_type": "text"
      },
      "source": [
        "<a href=\"https://colab.research.google.com/github/MariaVlasenkova/repo-PNM/blob/main/%D0%97%D0%B0%D0%B4%D0%B0%D1%87%D0%B0_%D0%B2%D1%82%D0%BE%D1%80%D0%BE%D0%B3%D0%BE_%D1%8D%D1%82%D0%B0%D0%BF%D0%B0_(%D0%BC%D0%BE%D0%B4%D1%83%D0%BB%D1%8C_1)_%D0%9D%D0%B5%D1%82_%D0%9C%D0%BE%D0%BD%D0%B5%D1%82.ipynb\" target=\"_parent\"><img src=\"https://colab.research.google.com/assets/colab-badge.svg\" alt=\"Open In Colab\"/></a>"
      ]
    },
    {
      "cell_type": "markdown",
      "source": [
        "# Задача II.1.1.1. Нет Монет (30 баллов)"
      ],
      "metadata": {
        "id": "RUTTw_m2zWt-"
      }
    },
    {
      "cell_type": "markdown",
      "source": [
        "# Условие\n",
        "Гоша готовится к выпускной дискотеке, и хочет купить одежды. Он скопил капитал в виде N монет. В магазине есть на продажу k предметов одежды со стоимостями O1, O2 ... Ok.\n",
        "У кассира есть L монет стоимостями L1, L2, L3, L4... Гоша хочет купить максимальное количество вещей, так чтобы иметь возможность за них заплатить и получить точную сдачу при необходимости. Программа должна выдавать стоимость такой покупки при заданных условиях.\n",
        "Вход три несортированных списка в таком порядке:\n",
        "1. Монеты Гоши\n",
        "2.\tМонеты Кассира\n",
        "3.\tСтоимость Одежды\n",
        "\n",
        "Списки в квадратных скобках ([]), числа в списках и сами списки отделены запятой.\n",
        "У Гоши и Кассира от 5 до 10 монет номиналами от 7 до 100. Товаров от 5 до 20 стоимость от 20 до 100.\n",
        "Обратите внимание на ограничение по времени (ограничений по количеству попыток нет).\n",
        "P.S. При разных вариантах купить одно и тоже количество вещей необходимо выбрать вариант наименьший по стоимости."
      ],
      "metadata": {
        "id": "2pTYgsWVzcps"
      }
    },
    {
      "cell_type": "markdown",
      "source": [
        "# Генерация данных"
      ],
      "metadata": {
        "id": "OXqPoF4Nz7NV"
      }
    },
    {
      "cell_type": "code",
      "execution_count": 5,
      "metadata": {
        "id": "OTP8n7MnzKrm"
      },
      "outputs": [],
      "source": [
        "#Функция создающая случайно сгенерированный набор данных\n",
        "def generate():\n",
        "  examples = 15\n",
        "  res = list()\n",
        "  for i in range(examples):\n",
        "    len1 = random.randrange(5,10)\n",
        "    len2 = random.randrange(5,10)\n",
        "    len3 = random.randrange(5,20)\n",
        "    M = [ random.randrange(7,100) for i in range(len1)]\n",
        "    N= [ random.randrange(7,100) for i in range(len2)]\n",
        "    S= [ random.randrange(20,100) for i in range(len3)]\n",
        "    res.append(str(M)+','+str(N)+','+str(S)+\"\\n\")\n",
        "  return res"
      ]
    },
    {
      "cell_type": "markdown",
      "source": [
        "# Решение"
      ],
      "metadata": {
        "id": "VQDfSnLe0b4S"
      }
    },
    {
      "cell_type": "code",
      "source": [
        "import random\n",
        "import copy\n",
        "import ast\n",
        "\n",
        "#Вычисление возможных сумм\n",
        "def get_sum_list(monet_list):\n",
        "  result = set()\n",
        "  if len(monet_list) == 1:\n",
        "    return [monet_list[0]]\n",
        "  new_list = copy.deepcopy(monet_list)\n",
        "  m = new_list[0]\n",
        "  new_list.remove(m)\n",
        "  res_sum = get_sum_list(new_list)\n",
        "  result.add(m)\n",
        "  for r in res_sum:\n",
        "    result.add(r+m)\n",
        "    result.add(r)\n",
        "  return result\n",
        "\n",
        "#Сопоставление возможных сумм, с учетом сдачи\n",
        "def add_minus_list(monet_list, first_list):\n",
        "  result = set()\n",
        "  new_list = copy.deepcopy(monet_list)\n",
        "  m = new_list[0]\n",
        "  new_list.remove(m)\n",
        "  if len(new_list)>0:\n",
        "    res_sum = add_minus_list(new_list, first_list)\n",
        "  else:\n",
        "    res_sum = list(first_list)\n",
        "  for r in res_sum:\n",
        "    if r-m>0:\n",
        "      result.add(r-m)\n",
        "    result.add(r)\n",
        "  return result\n",
        "\n",
        "#Вычисление минимальных сумм фактической покупки\n",
        "def get_min_calc(S):\n",
        "  new_list = copy.deepcopy(S)\n",
        "  m = new_list[0]\n",
        "  new_list.remove(m)\n",
        "  if len(new_list) == 0:\n",
        "    return [{0},{m}]\n",
        "  res_sum = get_min_calc(new_list)\n",
        "  res_sum.append(set())\n",
        "  for k in reversed(range(len(res_sum)-1)):\n",
        "    #if res_sum[k+1]<res_sum[k]+m:\n",
        "    for r in res_sum[k]:\n",
        "      res_sum[k+1].add(r+m)\n",
        "  return res_sum\n",
        "\n",
        "#Получение минимальных сумм и максимизация покупок\n",
        "def get_max_items(F,S):\n",
        "  for k in reversed(range(len(S))):\n",
        "    # print(S[k])\n",
        "    min_sum = max(F)+1\n",
        "    for p in S[k]:\n",
        "      if p in F and p<min_sum:\n",
        "        min_sum = p\n",
        "    if min_sum<=max(F):\n",
        "      return k, min_sum\n",
        "  return 0,0\n",
        "\n",
        "#Обработка данных и решение\n",
        "def solve(dataset):\n",
        "  input_ds = dataset[1:-2].split(\"],[\")\n",
        "  if len(input_ds)<3:\n",
        "    print(dataset)\n",
        "    return dataset\n",
        "  M = [int(i) for i in input_ds[0].split(\",\")]\n",
        "  N = [int(i) for i in input_ds[1].split(\",\")]\n",
        "  S = [int(i) for i in input_ds[2].split(\",\")]\n",
        "  f = get_sum_list(M)\n",
        "  r = add_minus_list(N,f)\n",
        "  s = get_min_calc(S)\n",
        "  k, mins = get_max_items(r,s)\n",
        "  return str(mins)"
      ],
      "metadata": {
        "id": "XRbLzmYL0eNU"
      },
      "execution_count": 4,
      "outputs": []
    }
  ]
}