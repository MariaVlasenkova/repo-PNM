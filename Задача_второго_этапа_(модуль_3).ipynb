{
  "nbformat": 4,
  "nbformat_minor": 0,
  "metadata": {
    "colab": {
      "provenance": [],
      "authorship_tag": "ABX9TyMmLyNqsZdEJ7TrRdJap5k9",
      "include_colab_link": true
    },
    "kernelspec": {
      "name": "python3",
      "display_name": "Python 3"
    },
    "language_info": {
      "name": "python"
    }
  },
  "cells": [
    {
      "cell_type": "markdown",
      "metadata": {
        "id": "view-in-github",
        "colab_type": "text"
      },
      "source": [
        "<a href=\"https://colab.research.google.com/github/MariaVlasenkova/repo-PNM/blob/main/%D0%97%D0%B0%D0%B4%D0%B0%D1%87%D0%B0_%D0%B2%D1%82%D0%BE%D1%80%D0%BE%D0%B3%D0%BE_%D1%8D%D1%82%D0%B0%D0%BF%D0%B0_(%D0%BC%D0%BE%D0%B4%D1%83%D0%BB%D1%8C_3).ipynb\" target=\"_parent\"><img src=\"https://colab.research.google.com/assets/colab-badge.svg\" alt=\"Open In Colab\"/></a>"
      ]
    },
    {
      "cell_type": "markdown",
      "source": [
        "# Задача II.1.3.1. (40 баллов)"
      ],
      "metadata": {
        "id": "OyhhhX8HABLR"
      }
    },
    {
      "cell_type": "markdown",
      "source": [
        "# Условие\n",
        "На Олимпиаду НТИ приехали участники, некоторые из которых знакомы, часть которых знакома между собой, а другая – нет.\n",
        "Участников необходимо разбить на команды, минимизировав количество команд.\n",
        "В команде может быть от одного до M участников включительно.\n",
        "При этом каждый член команды должен знать хотя бы одного другого члена команды (если в команде больше одного человека).\n",
        "Считается, что участники пронумерованы начиная с нуля. На вход подается пара:\n",
        "1.\tCписок из N массивов по N значений. i-e значение в j-м массиве, означает знакомы ли участники под номерами i и j: 1 – если знакомы и 0 – иначе. Легко заметить, что матрица симметрична, относительно главной диагонали.\n",
        "2.\tМаксимальное количество участников в команде M. \n",
        "N изменяется от 50 до 70 (в примере равно 10). M изменяется от 3 до 7.\n",
        "На выходе необходимо написать одно число – минимальное количество команд при заданном ограничении.\n",
        "\n",
        "Количество попыток неограниченно, ограничение по времени работы зависит от языка.\n",
        "Немного занимательной информации о знакомстве участников: всегда существует такой порядок, что выстроившись в нем в линию каждый участник, который имеет хотя бы одного знакомого сможет пожать руку какому-то знакомому, т.е. будет иметь знакомого или справа или слева от себя. Существование такого порядка можно использовать в алгоритме."
      ],
      "metadata": {
        "id": "reQ4dOJGAD23"
      }
    },
    {
      "cell_type": "markdown",
      "source": [
        "# Генерация данных"
      ],
      "metadata": {
        "id": "BrkI6efVAOQv"
      }
    },
    {
      "cell_type": "code",
      "execution_count": 8,
      "metadata": {
        "id": "hOTfhVSE_6iU"
      },
      "outputs": [],
      "source": [
        "#cлучайная генерация данных, с указанными ограничнениями\n",
        "def generate():\n",
        "  examples = 10\n",
        "  resl = list()\n",
        "  for ex in range(examples):\n",
        "    maxa = random.randint(50,70)\n",
        "    maxb=maxa\n",
        "    clust_num = random.randint(int(maxa/8),int(maxa/5 ))\n",
        "    clust_sizes = [random.randint(int(maxa/clust_num-5),int(maxa/clust_num+5)) for i in range(clust_num-2)]\n",
        "    if sum(clust_sizes) > maxa-3:\n",
        "      clust_sizes = [random.randint(int(maxa/clust_num-5),int(maxa/clust_num)) for i in range(clust_num-3)]\n",
        "    sumcl = sum(clust_sizes)\n",
        "    finr = random.randint(0,maxa-sumcl)\n",
        "    clust_sizes.append(finr)\n",
        "    clust_sizes.append(maxa - sumcl-finr)\n",
        "    chikld = [i for i in range(maxa)]\n",
        "    cls_ids = []\n",
        "    res = [[0]*maxa for i in range(maxb)]\n",
        "    for cl in clust_sizes:\n",
        "      if cl<1:\n",
        "        continue\n",
        "      cl_ids = []\n",
        "      for i in range(cl):\n",
        "        rind = random.randint(0,len(chikld)-1)\n",
        "        cl_ids.append(chikld[rind])\n",
        "        chikld.remove(chikld[rind])\n",
        "      for i in range(1,len(cl_ids)):\n",
        "        res[cl_ids[i]][cl_ids[i-1]] = 1\n",
        "        res[cl_ids[i-1]][cl_ids[i]] = 1\n",
        "      for i in range(int(len(cl_ids))*5):\n",
        "        if len(cl_ids)<1:\n",
        "          continue\n",
        "        i1 = cl_ids[random.randint(0,len(cl_ids)-1)]\n",
        "        i2 = cl_ids[random.randint(0,len(cl_ids)-1)]\n",
        "        if i1==i2:\n",
        "          continue\n",
        "        con = max( res[i1][i2], random.randint(0,1))\n",
        "        res[i1][i2] = con\n",
        "        res[i2][i1] = con\n",
        "      cls_ids.append(list(set(cl_ids)))\n",
        "    res = [ [1 if j==i\n",
        "        else res[i][j] for i in range(maxa)] for j in range(maxb)]\n",
        "    cls_ids = sorted(cls_ids, key=lambda x: x[0])\n",
        "    resl.append( \"(\"+str(res)+\",\"+str(random.randint(3,7)) +\")\"+\"\\n\")\n",
        "  return resl"
      ]
    },
    {
      "cell_type": "markdown",
      "source": [
        "# Решение"
      ],
      "metadata": {
        "id": "b9l3z-PMBixT"
      }
    },
    {
      "cell_type": "code",
      "source": [
        "import random\n",
        "import math\n",
        "import ast\n",
        "\n",
        "#получить кластер от конкретного участника\n",
        "def getcluster_from_point(r,p,cluster=[]):\n",
        "  cluster = list(set(cluster+[p]))\n",
        "  new_ps = [i for i in range(len(r[0])) if r[p][i]==1 and i not in cluster]\n",
        "  cluster = list(set(cluster+new_ps))\n",
        "  for new_p in new_ps:\n",
        "    clustern = getcluster_from_point(r,new_p, cluster=cluster)\n",
        "    cluster = list(set(clustern))\n",
        "  return cluster\n",
        "\n",
        "#получить все кластера\n",
        "def get_clusters(r):\n",
        "  points = [i for i in range(len(r[0]))]\n",
        "  clusters = []\n",
        "  while len(points)>0:\n",
        "    clustern = getcluster_from_point(r,points[0])\n",
        "    #print(clustern,points[0])\n",
        "    points = [p for p in points if p not in clustern]\n",
        "    #print(points,  clustern,  len(points))\n",
        "    clusters.append(clustern)\n",
        "  clusters = sorted(clusters, key=lambda x: x[0])\n",
        "  return clusters\n",
        "\n",
        "#минимизация количества команд\n",
        "def get_min(m, r):\n",
        "  cls = get_clusters(r)\n",
        "  cum = 0\n",
        "  for cl in cls:\n",
        "    cum+=int(math.trunc(len(cl)/m))\n",
        "    if len(cl) %m >0:\n",
        "      cum+=1\n",
        "  return str(cum)\n",
        "\n",
        "#обработка входа и выдача результата\n",
        "def solve(dataset):\n",
        "  r,m = ast.literal_eval(dataset)\n",
        "  return get_min(m, r)"
      ],
      "metadata": {
        "id": "mP8WhzOyBlHR"
      },
      "execution_count": 7,
      "outputs": []
    }
  ]
}